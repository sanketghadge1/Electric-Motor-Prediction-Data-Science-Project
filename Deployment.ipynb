{
  "cells": [
    {
      "cell_type": "code",
      "source": [
        "!pip install flask pyngrok\n"
      ],
      "metadata": {
        "colab": {
          "base_uri": "https://localhost:8080/"
        },
        "id": "umx_NXWQvrib",
        "outputId": "74fdcd89-f195-4457-f759-8e1d08827303"
      },
      "execution_count": 51,
      "outputs": [
        {
          "output_type": "stream",
          "name": "stdout",
          "text": [
            "Requirement already satisfied: flask in /usr/local/lib/python3.11/dist-packages (3.1.0)\n",
            "Requirement already satisfied: pyngrok in /usr/local/lib/python3.11/dist-packages (7.2.3)\n",
            "Requirement already satisfied: Werkzeug>=3.1 in /usr/local/lib/python3.11/dist-packages (from flask) (3.1.3)\n",
            "Requirement already satisfied: Jinja2>=3.1.2 in /usr/local/lib/python3.11/dist-packages (from flask) (3.1.5)\n",
            "Requirement already satisfied: itsdangerous>=2.2 in /usr/local/lib/python3.11/dist-packages (from flask) (2.2.0)\n",
            "Requirement already satisfied: click>=8.1.3 in /usr/local/lib/python3.11/dist-packages (from flask) (8.1.8)\n",
            "Requirement already satisfied: blinker>=1.9 in /usr/local/lib/python3.11/dist-packages (from flask) (1.9.0)\n",
            "Requirement already satisfied: PyYAML>=5.1 in /usr/local/lib/python3.11/dist-packages (from pyngrok) (6.0.2)\n",
            "Requirement already satisfied: MarkupSafe>=2.0 in /usr/local/lib/python3.11/dist-packages (from Jinja2>=3.1.2->flask) (3.0.2)\n"
          ]
        }
      ]
    },
    {
      "cell_type": "code",
      "source": [
        "%%writefile app.py\n",
        "from flask import Flask\n",
        "\n",
        "app = Flask(__name__)\n",
        "\n",
        "@app.route(\"/\")\n",
        "def home():\n",
        "    return \"Hello, this is your ngrok-deployed app running in Colab!\"\n",
        "\n",
        "if __name__ == \"__main__\":\n",
        "    app.run(port=5000)\n"
      ],
      "metadata": {
        "colab": {
          "base_uri": "https://localhost:8080/"
        },
        "id": "uJLBth1dvunj",
        "outputId": "ca9d63b1-14da-468c-dfd0-90127d5589b7"
      },
      "execution_count": 52,
      "outputs": [
        {
          "output_type": "stream",
          "name": "stdout",
          "text": [
            "Writing app.py\n"
          ]
        }
      ]
    },
    {
      "cell_type": "code",
      "source": [
        "!pkill -9 -f ngrok\n"
      ],
      "metadata": {
        "id": "OBLy8shwxA1j"
      },
      "execution_count": 61,
      "outputs": []
    },
    {
      "source": [
        "import requests\n",
        "\n",
        "url = \"https://dd88-34-19-20-199.ngrok-free.app\"  # Replace with your ngrok URL\n",
        "\n",
        "# Send a GET request to check the server status if you expect a simple response.\n",
        "response = requests.get(url)\n",
        "print(response.text)  # Output the response as text\n",
        "\n",
        "# For JSON responses, create a separate route in your Flask app that handles POST requests and returns valid JSON.\n",
        "\n",
        "# Example:\n",
        "# @app.route('/predict', methods=['POST'])\n",
        "# def predict():\n",
        "#     data = request.get_json()\n",
        "#     # Perform prediction here using the received data.\n",
        "#     result = {'prediction': 'your_prediction_result'}\n",
        "#     return jsonify(result)"
      ],
      "cell_type": "code",
      "metadata": {
        "colab": {
          "base_uri": "https://localhost:8080/"
        },
        "id": "4Ic827Bcxy7n",
        "outputId": "65d3951d-8381-4b78-9365-97bdd97c5446"
      },
      "execution_count": 67,
      "outputs": [
        {
          "output_type": "stream",
          "name": "stdout",
          "text": [
            "Hello, this is your ngrok-deployed app running in Colab!\n"
          ]
        }
      ]
    },
    {
      "cell_type": "code",
      "source": [
        "from pyngrok import ngrok\n",
        "ngrok.kill()\n",
        "public_url = ngrok.connect(5000)\n",
        "print(\"New ngrok URL:\", public_url)\n"
      ],
      "metadata": {
        "colab": {
          "base_uri": "https://localhost:8080/"
        },
        "id": "WBc0USXzxJTc",
        "outputId": "803ce280-7086-4fe9-8188-9dda63c9f761"
      },
      "execution_count": 62,
      "outputs": [
        {
          "output_type": "stream",
          "name": "stdout",
          "text": [
            "New ngrok URL: NgrokTunnel: \"https://dd88-34-19-20-199.ngrok-free.app\" -> \"http://localhost:5000\"\n"
          ]
        }
      ]
    },
    {
      "cell_type": "code",
      "source": [
        "from pyngrok import ngrok\n",
        "ngrok.set_auth_token(\"2tIWBEDjyotVvSeAT3rfYpqmyl5_5NaiaGpJETS9ZVa6dWXKi\")\n"
      ],
      "metadata": {
        "id": "TZKGEX-NxOYA"
      },
      "execution_count": 63,
      "outputs": []
    },
    {
      "cell_type": "code",
      "source": [
        "from pyngrok import ngrok\n",
        "import subprocess\n",
        "\n",
        "# Start Flask app in the background\n",
        "subprocess.Popen([\"python\", \"app.py\"])\n",
        "\n",
        "# Create ngrok tunnel for port 5000\n",
        "public_url = ngrok.connect(8000)\n",
        "print(\"Public URL:\", public_url)\n"
      ],
      "metadata": {
        "colab": {
          "base_uri": "https://localhost:8080/"
        },
        "id": "11SKYPYIvxMX",
        "outputId": "e8f2f0bc-3113-4808-aee9-0a68132ba2d1"
      },
      "execution_count": 64,
      "outputs": [
        {
          "output_type": "stream",
          "name": "stdout",
          "text": [
            "Public URL: NgrokTunnel: \"https://23da-34-19-20-199.ngrok-free.app\" -> \"http://localhost:8000\"\n"
          ]
        }
      ]
    },
    {
      "cell_type": "code",
      "source": [
        "from pyngrok import ngrok\n",
        "\n",
        "# Kill all active tunnels\n",
        "ngrok.kill()\n",
        "\n",
        "# Now start a new tunnel\n",
        "public_url = ngrok.connect(5000)\n",
        "print(\"New ngrok URL:\", public_url)\n"
      ],
      "metadata": {
        "colab": {
          "base_uri": "https://localhost:8080/"
        },
        "id": "o6r9t6JHwjiu",
        "outputId": "ac3e4a98-ff0a-4f48-ee3a-a4ee2747f339"
      },
      "execution_count": 58,
      "outputs": [
        {
          "output_type": "stream",
          "name": "stdout",
          "text": [
            "New ngrok URL: NgrokTunnel: \"https://ef57-34-19-20-199.ngrok-free.app\" -> \"http://localhost:5000\"\n"
          ]
        }
      ]
    },
    {
      "cell_type": "code",
      "source": [
        "ngrok.set_auth_token(\"2tIWBEDjyotVvSeAT3rfYpqmyl5_5NaiaGpJETS9ZVa6dWXKi\")\n"
      ],
      "metadata": {
        "id": "oqMB7uuKv6_v"
      },
      "execution_count": 56,
      "outputs": []
    },
    {
      "cell_type": "code",
      "source": [],
      "metadata": {
        "id": "kh0vys7owN49"
      },
      "execution_count": null,
      "outputs": []
    }
  ],
  "metadata": {
    "colab": {
      "provenance": []
    },
    "kernelspec": {
      "display_name": "Python 3",
      "name": "python3"
    },
    "language_info": {
      "name": "python"
    }
  },
  "nbformat": 4,
  "nbformat_minor": 0
}